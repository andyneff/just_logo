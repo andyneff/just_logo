{
 "cells": [
  {
   "cell_type": "markdown",
   "metadata": {},
   "source": [
    "MIT License\n",
    "\n",
    "Copyright (c) 2019 Andy Neff\n",
    "\n",
    "Permission is hereby granted, free of charge, to any person obtaining a copy\n",
    "of this software and associated documentation files (the \"Software\"), to deal\n",
    "in the Software without restriction, including without limitation the rights\n",
    "to use, copy, modify, merge, publish, distribute, sublicense, and/or sell\n",
    "copies of the Software, and to permit persons to whom the Software is\n",
    "furnished to do so, subject to the following conditions:\n",
    "\n",
    "The above copyright notice and this permission notice shall be included in all\n",
    "copies or substantial portions of the Software.\n",
    "\n",
    "THE SOFTWARE IS PROVIDED \"AS IS\", WITHOUT WARRANTY OF ANY KIND, EXPRESS OR\n",
    "IMPLIED, INCLUDING BUT NOT LIMITED TO THE WARRANTIES OF MERCHANTABILITY,\n",
    "FITNESS FOR A PARTICULAR PURPOSE AND NONINFRINGEMENT. IN NO EVENT SHALL THE\n",
    "AUTHORS OR COPYRIGHT HOLDERS BE LIABLE FOR ANY CLAIM, DAMAGES OR OTHER\n",
    "LIABILITY, WHETHER IN AN ACTION OF CONTRACT, TORT OR OTHERWISE, ARISING FROM,\n",
    "OUT OF OR IN CONNECTION WITH THE SOFTWARE OR THE USE OR OTHER DEALINGS IN THE\n",
    "SOFTWARE."
   ]
  },
  {
   "cell_type": "code",
   "execution_count": null,
   "metadata": {},
   "outputs": [],
   "source": [
    "%matplotlib notebook"
   ]
  },
  {
   "cell_type": "code",
   "execution_count": null,
   "metadata": {},
   "outputs": [],
   "source": [
    "import matplotlib.pyplot as plt\n",
    "from mpl_toolkits.mplot3d import Axes3D\n",
    "import numpy as np\n",
    "import os"
   ]
  },
  {
   "cell_type": "code",
   "execution_count": null,
   "metadata": {},
   "outputs": [],
   "source": [
    "# cut=0.3; w=0.1\n",
    "cut=0.4;w=0.12\n",
    "# cut=0.5;w=0.2"
   ]
  },
  {
   "cell_type": "code",
   "execution_count": null,
   "metadata": {},
   "outputs": [],
   "source": [
    "x = [-1+cut, 1-cut, 1-cut,    -1]\n",
    "y = [-1,        -1,    -1,    -1]\n",
    "z = [-1,        -1, 1-cut, 1-cut]\n",
    "\n",
    "x += [    -1,     -1,    -1]\n",
    "y += [    -1,  1-cut, 1-cut]\n",
    "z += [-1+cut, -1+cut,     1]\n",
    "\n",
    "x += [    -1,  1-cut, 1-cut]\n",
    "y += [-1+cut, -1+cut,     1]\n",
    "z += [     1,      1,     1]\n",
    "\n",
    "x += [-1+cut, -1+cut,      1]\n",
    "y += [     1,      1,      1]\n",
    "z += [     1, -1+cut, -1+cut]\n",
    "\n",
    "x += [     1,      1,      1]\n",
    "y += [     1, -1+cut, -1+cut]\n",
    "z += [ 1-cut,  1-cut,     -1]\n",
    "\n",
    "x += [    1, -1+cut, -1+cut]\n",
    "y += [1-cut,  1-cut,     -1]\n",
    "z += [   -1,     -1,     -1]\n",
    "\n",
    "x = np.array(x)\n",
    "y = np.array(y)\n",
    "z = np.array(z)"
   ]
  },
  {
   "cell_type": "code",
   "execution_count": null,
   "metadata": {},
   "outputs": [],
   "source": [
    "face_a = np.array([[[x[0]-w, x[1]+w, x[2]+w, x[3]-w, x[4]-w, x[4]+w, x[3]+w, x[2]-w, x[1]-w, x[0]-w, x[0]-w],\n",
    "                    y[0:1] * np.ones(11) + w,\n",
    "                    [z[0]-w, z[1]-w, z[2]+w, z[3]+w, z[4]-w, z[4]-w, z[3]-w, z[2]-w, z[1]+w, z[0]+w, z[0]-w]]])\n",
    "\n",
    "face_b = face_a.copy()\n",
    "face_b[0, 1, :] -= 2*w\n",
    "\n",
    "face_a[0, 0, 0] += 2*w\n",
    "face_a[0, 0, 9:] += 2*w\n",
    "face_a[0, 2, 4:6] += 2*w\n",
    "# face_a = np.flip(face_a, axis=2)\n",
    "\n",
    "face_c = np.array([[x[1] * np.ones(5) + w,\n",
    "                   y[1] * np.ones(5) + [-w, w, w, -w, -w],\n",
    "                   [z[1]-w, z[1]-w, z[2]+w, z[2]+w, z[1]-w]]])\n",
    "\n",
    "face_d = face_c.copy()\n",
    "face_d[0,0,:] -= 2*w\n",
    "face_d[0,2,:] = [z[1]+w, z[1]+w, z[2]-w, z[2]-w, z[1]+w]\n",
    "\n",
    "face_e = np.array([[[x[2]+w, x[2]+w, x[3]-w, x[3]-w, x[2]+w],\n",
    "                    y[2] * np.ones(5) + [-w, w, w, -w, -w],\n",
    "                    z[2] * np.ones(5) + w]])\n",
    "# face_e = np.flip(face_e, axis=2)\n",
    "\n",
    "\n",
    "face_f = face_e.copy()\n",
    "face_f[0,0,:] = [x[2]-w, x[2]-w, x[3]+w, x[3]+w, x[2]-w]\n",
    "face_f[0,2,:] -= 2*w\n",
    "# face_f = np.flip(face_f, axis=2)"
   ]
  },
  {
   "cell_type": "code",
   "execution_count": null,
   "metadata": {},
   "outputs": [],
   "source": [
    "faces = [face_a, face_b, face_c, face_d, face_e, face_f]\n",
    "faces = [face * np.ones([6,1,1]) for face in faces]\n",
    "for face in faces:\n",
    "    for size in range(1,6):\n",
    "        face[size,0:2,:] = face[size-1,1:3,:]\n",
    "        face[size,2,:] = -face[size-1,0,:]"
   ]
  },
  {
   "cell_type": "code",
   "execution_count": null,
   "metadata": {},
   "outputs": [],
   "source": [
    "fig = plt.figure()\n",
    "ax = fig.add_subplot(111, projection='3d')\n",
    "for face in faces:\n",
    "  for f in np.rollaxis(face, 0):\n",
    "    ax.plot(xs=f[0,:], ys=f[1,:], zs=f[2,:])\n",
    "ax.axis('equal');"
   ]
  },
  {
   "cell_type": "code",
   "execution_count": null,
   "metadata": {},
   "outputs": [],
   "source": [
    "# This is no good due to matplotlib z order bugs\n",
    "from mpl_toolkits.mplot3d import Axes3D\n",
    "from mpl_toolkits.mplot3d.art3d import Poly3DCollection\n",
    "import matplotlib.pyplot as plt\n",
    "fig = plt.figure()\n",
    "ax = Axes3D(fig)\n",
    "# x = [0,1,1,0]\n",
    "# y = [0,0,1,1]\n",
    "# z = [0,1,0,1]\n",
    "# verts = [list(zip(x,y,z))]\n",
    "ax.set_xlim(-1,1)\n",
    "ax.set_ylim(-1,1)\n",
    "ax.set_zlim(-1,1)\n",
    "\n",
    "for face in faces:\n",
    "  for f in np.rollaxis(face, 0):\n",
    "    poly = Poly3DCollection([f.transpose()])\n",
    "    poly.set_color(np.random.random(3))\n",
    "    ax.add_collection3d(poly)"
   ]
  },
  {
   "cell_type": "raw",
   "metadata": {},
   "source": [
    "fig = plt.figure()\n",
    "ax = fig.add_subplot(111, projection='3d')\n",
    "for fx, fy, fz in zip(faces_x, faces_y, faces_z):\n",
    "  ax.plot(xs=fx, ys=fy, zs=fz, c='b')\n",
    "#   ax.plot_surface(X=fx, Y=fy, Z=fz, c='b')\n",
    "ax.axis('equal')"
   ]
  },
  {
   "cell_type": "code",
   "execution_count": null,
   "metadata": {},
   "outputs": [],
   "source": [
    "def writeObj(verts,faces,outFile,commentString = ''):\n",
    "    file2 = open(outFile,'w')\n",
    "    file2.write(\"#mesh written by writeObj function. \\n\")\n",
    "    if len(commentString) >0:\n",
    "        file2.write(commentString + '\\n') #emsure that each newline begins with a '#'\n",
    "    for v in verts:\n",
    "        file2.write(\"v \" + str(v[0]) + \" \" + str(v[1]) + \" \" + str(v[2]) + \"\\n\"  )\n",
    "    faceBool = False\n",
    "    for x in range(0,len(faces)):\n",
    "        f = faces[x]\n",
    "        file2.write(\"f \")\n",
    "        for vi in f:\n",
    "            file2.write(str(vi+ 1) + \" \")\n",
    "        file2.write(\"\\n\")"
   ]
  },
  {
   "cell_type": "code",
   "execution_count": null,
   "metadata": {},
   "outputs": [],
   "source": [
    "points = np.concatenate([np.concatenate(face, 1) for face in faces], axis=1)"
   ]
  },
  {
   "cell_type": "code",
   "execution_count": null,
   "metadata": {},
   "outputs": [],
   "source": [
    "face_index = [list(range(x*11, (x+1)*11)) for x in range(12)]\n",
    "face_index += [list(range(132+x*5, 132+(x+1)*5)) for x in range(24)]\n",
    "for x in [0, 2, 4, 7, 9, 11, 13, 15, 17, 18, 20, 22, 25, 27, 29, 30, 32, 34]:\n",
    "    face_index[x].reverse()\n",
    "# face_index = face_index[11:31]\n",
    "writeObj(zip(*points.tolist()), face_index, \"eternity.obj\")"
   ]
  },
  {
   "cell_type": "code",
   "execution_count": null,
   "metadata": {},
   "outputs": [],
   "source": []
  }
 ],
 "metadata": {
  "kernelspec": {
   "display_name": "playground",
   "language": "python",
   "name": "playground"
  },
  "language_info": {
   "codemirror_mode": {
    "name": "ipython",
    "version": 3
   },
   "file_extension": ".py",
   "mimetype": "text/x-python",
   "name": "python",
   "nbconvert_exporter": "python",
   "pygments_lexer": "ipython3",
   "version": "3.7.1"
  }
 },
 "nbformat": 4,
 "nbformat_minor": 2
}
